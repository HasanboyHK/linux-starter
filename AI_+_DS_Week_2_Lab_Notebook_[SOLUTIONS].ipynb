{
  "nbformat": 4,
  "nbformat_minor": 0,
  "metadata": {
    "colab": {
      "provenance": [],
      "include_colab_link": true
    },
    "kernelspec": {
      "name": "python3",
      "display_name": "Python 3"
    },
    "language_info": {
      "name": "python"
    }
  },
  "cells": [
    {
      "cell_type": "markdown",
      "metadata": {
        "id": "view-in-github",
        "colab_type": "text"
      },
      "source": [
        "<a href=\"https://colab.research.google.com/github/HasanboyHK/linux-starter/blob/main/AI_%2B_DS_Week_2_Lab_Notebook_%5BSOLUTIONS%5D.ipynb\" target=\"_parent\"><img src=\"https://colab.research.google.com/assets/colab-badge.svg\" alt=\"Open In Colab\"/></a>"
      ]
    },
    {
      "cell_type": "markdown",
      "source": [
        "---\n",
        "# **Lab 2: Objects and Decision Making**\n",
        "---\n",
        "\n",
        "\n",
        "### **Description**\n",
        "This lab is designed to provide hands-on practice with Python basics to solidify the foundation upon which we will build our machine learning and data science skills in the coming weeks.\n",
        "\n",
        "\n",
        "<br>\n",
        "\n",
        "### **Lab Structure**\n",
        "**Part 1**: [Lists](#p1)\n",
        "\n",
        "**Part 2**: [Dictionaries](#p2)\n",
        "\n",
        "**Part 3**: [String Concatenation and Type Casting](#p3)\n",
        "\n",
        "**Part 4**: [Booleans and Comparison Operators](#p4)\n",
        "\n",
        "**Part 5**: [Conditionals - if](#p5)\n",
        "\n",
        "**Part 6**: [Conditionals - else](#p6)\n",
        "\n",
        "**Part 7**: [Conditionals - and & or](#p7)\n",
        "\n",
        "**Part 8**: [Conditionals - elif](#p8)\n",
        "\n",
        "**Part 9**: [Extra Practice](#p9) [optional]\n",
        "\n",
        "\n",
        "\n",
        "<br>\n",
        "\n",
        "### **Learning Objectives**\n",
        " By the end of this lab, we will:\n",
        "* Identify Python data types and be able to apply them.\n",
        "* Recognize how booleans differ from other types and the role they play in comparison operations.\n",
        "* Recognize what conditional statements are and how they affect program flow.\n",
        "* Recognize what logical operators do.\n",
        "* Define object oriented programming (OOP) and apply it in Python.\n",
        "\n",
        "\n",
        "<br>\n",
        "\n",
        "\n",
        "### **Resources**\n",
        "* [Python basics Cheat Sheet II](https://docs.google.com/document/d/18eQIB2AkctAQXiYCgsI10IJ5X_L70QpZuDdclz8zAi8/edit?usp=sharing)\n",
        "* [Python basics Cheat Sheet III](https://docs.google.com/document/d/1-Nw8dzt_3wzpDlhR_JoVjFZ0rhKOmua78p7f8yLlufg/edit?usp=sharing)"
      ],
      "metadata": {
        "id": "BKJILW0iVyeY"
      }
    },
    {
      "cell_type": "markdown",
      "source": [
        "<a name=\"p1\"></a>\n",
        "\n",
        "---\n",
        "## **Part 1: Lists**\n",
        "---"
      ],
      "metadata": {
        "id": "xoeu3Fj63ZeA"
      }
    },
    {
      "cell_type": "markdown",
      "source": [
        "### **Problem #1.1**\n",
        "\n",
        "Create a list of 4 of your favorite books, movies, and/or TV shows. Then print the list."
      ],
      "metadata": {
        "id": "9otNhZ98hCPm"
      }
    },
    {
      "cell_type": "code",
      "source": [
        "# COMPLETE THIS CODE"
      ],
      "metadata": {
        "id": "PNx4Jfdyjkgy"
      },
      "execution_count": null,
      "outputs": []
    },
    {
      "cell_type": "markdown",
      "source": [
        "##### **Solution**"
      ],
      "metadata": {
        "id": "McnImbSJjk8p"
      }
    },
    {
      "cell_type": "code",
      "source": [
        "my_favs = ['Attack on Titan', 'How to Train Your Dragon', 'A Court of Thorns and Roses', 'Avatar']\n",
        "print(my_favs)"
      ],
      "metadata": {
        "id": "-yzopQ9Ljm1v"
      },
      "execution_count": null,
      "outputs": []
    },
    {
      "cell_type": "markdown",
      "source": [
        "---\n",
        "### **Problem #1.2**\n",
        "\n",
        "Add `'History'` to the list below."
      ],
      "metadata": {
        "id": "rKPgjptvYiK9"
      }
    },
    {
      "cell_type": "code",
      "source": [
        "subjects = ['Physics', 'Math', 'English', 'Biology']\n",
        "\n",
        "# COMPLETE THIS CODE"
      ],
      "metadata": {
        "id": "4YMG6n7qYiK-"
      },
      "execution_count": null,
      "outputs": []
    },
    {
      "cell_type": "markdown",
      "source": [
        "##### **Solution**"
      ],
      "metadata": {
        "id": "97M0EHjpYiK-"
      }
    },
    {
      "cell_type": "code",
      "source": [
        "subjects.append(\"History\")\n",
        "print(subjects)"
      ],
      "metadata": {
        "id": "2110Aw52YiK-"
      },
      "execution_count": null,
      "outputs": []
    },
    {
      "cell_type": "markdown",
      "source": [
        "---\n",
        "### **Problem #1.3**\n",
        "\n",
        "Drop `'Math'`."
      ],
      "metadata": {
        "id": "RmwkksaCW4gX"
      }
    },
    {
      "cell_type": "code",
      "source": [
        "# COMPLETE THIS CODE"
      ],
      "metadata": {
        "id": "zE0vh7R44XzU"
      },
      "execution_count": null,
      "outputs": []
    },
    {
      "cell_type": "markdown",
      "source": [
        "##### **Solution**"
      ],
      "metadata": {
        "id": "vwcmtH0T4X62"
      }
    },
    {
      "cell_type": "code",
      "source": [
        "subjects.remove(\"Math\")\n",
        "print(subjects)"
      ],
      "metadata": {
        "id": "vVsSL2GcW5Ht"
      },
      "execution_count": null,
      "outputs": []
    },
    {
      "cell_type": "markdown",
      "source": [
        "---\n",
        "### **Problem #1.4**\n",
        "\n",
        "Replace `'Physics'` with `'AP Physics'`."
      ],
      "metadata": {
        "id": "jZ8AJlrVW5k2"
      }
    },
    {
      "cell_type": "code",
      "source": [
        "# COMPLETE THIS CODE"
      ],
      "metadata": {
        "id": "NGn2rRQl4EoB"
      },
      "execution_count": null,
      "outputs": []
    },
    {
      "cell_type": "markdown",
      "source": [
        "##### **Solution**"
      ],
      "metadata": {
        "id": "ueURibWG4EvZ"
      }
    },
    {
      "cell_type": "code",
      "source": [
        "subjects[0] = \"AP Physics\"\n",
        "print(subjects)"
      ],
      "metadata": {
        "id": "JeUWEXRaW6FL"
      },
      "execution_count": null,
      "outputs": []
    },
    {
      "cell_type": "markdown",
      "source": [
        "---\n",
        "### **Problem #1.5**\n",
        "\n",
        "Print all subjects from index 2 on."
      ],
      "metadata": {
        "id": "-2timCvfW-9g"
      }
    },
    {
      "cell_type": "code",
      "source": [
        "print(subjects[# COMPLETE THIS LINE])"
      ],
      "metadata": {
        "id": "rMxJuZ_7HvU-"
      },
      "execution_count": null,
      "outputs": []
    },
    {
      "cell_type": "markdown",
      "source": [
        "##### **Solution**"
      ],
      "metadata": {
        "id": "brwu4rCdHusw"
      }
    },
    {
      "cell_type": "code",
      "source": [
        "print(subjects[2:])"
      ],
      "metadata": {
        "id": "UNtKn089XBRr"
      },
      "execution_count": null,
      "outputs": []
    },
    {
      "cell_type": "markdown",
      "source": [
        "---\n",
        "### **Problem #1.6**\n",
        "\n",
        "Without creating a new list, swap the items in the list so that they are in alphabetical order."
      ],
      "metadata": {
        "id": "LJpYgjpvNDZU"
      }
    },
    {
      "cell_type": "code",
      "source": [
        "fruits = ['apple', 'orange', 'lemon', 'banana', 'strawberry']\n",
        "\n",
        "# COMPLETE THIS CODE\n",
        "\n",
        "print(fruits)"
      ],
      "metadata": {
        "id": "06gAZcekOEPH"
      },
      "execution_count": null,
      "outputs": []
    },
    {
      "cell_type": "markdown",
      "source": [
        "##### **Solution**"
      ],
      "metadata": {
        "id": "tlb9NnhmOCxn"
      }
    },
    {
      "cell_type": "code",
      "source": [
        "fruits = ['apple', 'orange', 'lemon', 'banana', 'strawberry']\n",
        "\n",
        "temp = fruits[1]\n",
        "fruits[1] = fruits[3]\n",
        "fruits[3] = temp\n",
        "\n",
        "print(fruits)"
      ],
      "metadata": {
        "colab": {
          "base_uri": "https://localhost:8080/"
        },
        "id": "V6dojXTBNd6v",
        "outputId": "eb833375-d3f0-432d-dfb3-ee6135533921"
      },
      "execution_count": null,
      "outputs": [
        {
          "output_type": "stream",
          "name": "stdout",
          "text": [
            "['apple', 'banana', 'lemon', 'orange', 'strawberry']\n"
          ]
        }
      ]
    },
    {
      "cell_type": "markdown",
      "source": [
        "---\n",
        "### **Problem #1.7**\n",
        "\n",
        "Use indexing to access and print the 3rd letter of the 3rd word in the list."
      ],
      "metadata": {
        "id": "V4r-0D-Q4Ym-"
      }
    },
    {
      "cell_type": "code",
      "source": [
        "fruits = ['apple', 'orange', 'lemon', 'banana', 'strawberry']\n",
        "\n",
        "# COMPLETE THIS CODE"
      ],
      "metadata": {
        "id": "TYt4RoQu4mV9"
      },
      "execution_count": null,
      "outputs": []
    },
    {
      "cell_type": "markdown",
      "source": [
        "##### **Solution**"
      ],
      "metadata": {
        "id": "0gSrAb6C4pQR"
      }
    },
    {
      "cell_type": "code",
      "source": [
        "fruits = ['apple', 'orange', 'lemon', 'banana', 'strawberry']\n",
        "\n",
        "print(fruits[2][2])"
      ],
      "metadata": {
        "colab": {
          "base_uri": "https://localhost:8080/"
        },
        "id": "elk9TrJN4q59",
        "outputId": "78652fec-84fd-4f11-dcbe-3362120174fd"
      },
      "execution_count": null,
      "outputs": [
        {
          "output_type": "stream",
          "name": "stdout",
          "text": [
            "m\n"
          ]
        }
      ]
    },
    {
      "cell_type": "markdown",
      "source": [
        "---\n",
        "### **Problem #1.8**\n",
        "\n",
        "Print out the length of the list below."
      ],
      "metadata": {
        "id": "l0NyVnte4eV0"
      }
    },
    {
      "cell_type": "code",
      "source": [
        "my_list = [40, 50, 60, 70]\n",
        "\n",
        "# COMPLETE THIS CODE"
      ],
      "metadata": {
        "id": "rVLCe19i4pHF"
      },
      "execution_count": null,
      "outputs": []
    },
    {
      "cell_type": "markdown",
      "source": [
        "##### **Solution**"
      ],
      "metadata": {
        "id": "NbiFD_zo4x5z"
      }
    },
    {
      "cell_type": "code",
      "source": [
        "my_list = [40, 50, 60, 70]\n",
        "\n",
        "print(len(my_list))"
      ],
      "metadata": {
        "id": "7vYblq0J4zr_"
      },
      "execution_count": null,
      "outputs": []
    },
    {
      "cell_type": "markdown",
      "source": [
        "---\n",
        "### **Problem #1.9**\n",
        "\n",
        "Print out the length of the string below."
      ],
      "metadata": {
        "id": "g2CWNRgD43LN"
      }
    },
    {
      "cell_type": "code",
      "source": [
        "my_string = \"The quick brown fox jumps over the lazy dog.\"\n",
        "\n",
        "# COMPLETE THIS CODE"
      ],
      "metadata": {
        "id": "h1NykgRi5JpQ"
      },
      "execution_count": null,
      "outputs": []
    },
    {
      "cell_type": "markdown",
      "source": [
        "##### **Solution**"
      ],
      "metadata": {
        "id": "XGRz3OtL6XLC"
      }
    },
    {
      "cell_type": "code",
      "source": [
        "my_string = \"The quick brown fox jumps over the lazy dog.\"\n",
        "\n",
        "print(len(my_string))"
      ],
      "metadata": {
        "id": "d-mtLGvR6UfD",
        "colab": {
          "base_uri": "https://localhost:8080/"
        },
        "outputId": "88297431-820d-4303-ff7a-b5fbd2094256"
      },
      "execution_count": null,
      "outputs": [
        {
          "output_type": "stream",
          "name": "stdout",
          "text": [
            "44\n"
          ]
        }
      ]
    },
    {
      "cell_type": "markdown",
      "source": [
        "---\n",
        "### **Problem #1.10 [OPTIONAL]**\n",
        "\n",
        "Print your name only by performing indexing, slicing, and string concatenation on the string from the previous problem.\n",
        "\n",
        "For example:\n",
        "```python\n",
        "my_string = \"The quick brown fox jumps over the lazy dog.\"\n",
        "my_name = my_string[10:12].capitalize() + my_string[2] + my_string[0].lower() + my_string[31]\n",
        "print(my_name)\n",
        "```\n",
        "\n",
        "Outputs:\n",
        "```\n",
        "Brett\n",
        "```"
      ],
      "metadata": {
        "id": "uegIwn9Z6abM"
      }
    },
    {
      "cell_type": "code",
      "source": [
        "my_string = \"Thequickbrownfox jumps over the lazy dog.\"\n",
        "my_list = ['the', 'quick', 'brown']\n",
        "print(my_list[2])\n",
        "my_list.remove('the')\n",
        "print(my_list)\n",
        "\n",
        "my_string[5]"
      ],
      "metadata": {
        "id": "nxStLwIp7-qV",
        "colab": {
          "base_uri": "https://localhost:8080/",
          "height": 71
        },
        "outputId": "fbdae39b-6c55-4b8b-cc2a-4454314260db"
      },
      "execution_count": null,
      "outputs": [
        {
          "output_type": "stream",
          "name": "stdout",
          "text": [
            "brown\n",
            "['quick', 'brown']\n"
          ]
        },
        {
          "output_type": "execute_result",
          "data": {
            "text/plain": [
              "'i'"
            ],
            "application/vnd.google.colaboratory.intrinsic+json": {
              "type": "string"
            }
          },
          "metadata": {},
          "execution_count": 17
        }
      ]
    },
    {
      "cell_type": "markdown",
      "source": [
        "---\n",
        "### Back To Lab Slides\n",
        "---"
      ],
      "metadata": {
        "id": "Ib8kBRECGQny"
      }
    },
    {
      "cell_type": "markdown",
      "source": [
        "<a name=\"p2\"></a>\n",
        "\n",
        "---\n",
        "## **Part 2: Dictionaries**\n",
        "---"
      ],
      "metadata": {
        "id": "mmxqXMLl42UU"
      }
    },
    {
      "cell_type": "markdown",
      "source": [
        "### **Problem #2.1**\n",
        "\n",
        "Add 2.0 points to the Physics grade then print it."
      ],
      "metadata": {
        "id": "Txzcutxu447Q"
      }
    },
    {
      "cell_type": "code",
      "source": [
        "grades = {'Physics': 83.0, 'Math': 94.5, 'English': 90.4, 'Biology': 87.7}\n",
        "\n",
        "# COMPLETE THIS CODE"
      ],
      "metadata": {
        "id": "vFeSAcTx7kPa"
      },
      "execution_count": null,
      "outputs": []
    },
    {
      "cell_type": "markdown",
      "source": [
        "##### **Solution**"
      ],
      "metadata": {
        "id": "8uzYo4em8GYz"
      }
    },
    {
      "cell_type": "code",
      "source": [
        "grades = {'Physics': 83.0, 'Math': 94.5, 'English': 90.4, 'Biology': 87.7}\n",
        "grades['Physics'] += 2.0\n",
        "print(grades['Physics'])"
      ],
      "metadata": {
        "colab": {
          "base_uri": "https://localhost:8080/"
        },
        "id": "2CD_J1Uw8IOd",
        "outputId": "81ae3ad5-3b76-4fb0-df83-ae71f890911f"
      },
      "execution_count": null,
      "outputs": [
        {
          "output_type": "stream",
          "name": "stdout",
          "text": [
            "85.0\n"
          ]
        }
      ]
    },
    {
      "cell_type": "markdown",
      "source": [
        "---\n",
        "### **Problem #2.2**\n",
        "\n",
        "Create a dictionary and save it in a variable called `myself`. This dictionary should have the following keys with values completed by you.\n",
        "\n",
        "**Keys:**\n",
        "\n",
        "- `Name`: *(string)*\n",
        "- `Grade`: *(string)* or *(int)*\n",
        "- `Num pets`: *(int)*\n"
      ],
      "metadata": {
        "id": "Cw637D8I8YWC"
      }
    },
    {
      "cell_type": "code",
      "source": [
        "# COMPLETE THIS CODE"
      ],
      "metadata": {
        "id": "o7h6vvxS_L3O"
      },
      "execution_count": null,
      "outputs": []
    },
    {
      "cell_type": "markdown",
      "source": [
        "##### **Solution**"
      ],
      "metadata": {
        "id": "EWX8vvAN_Opw"
      }
    },
    {
      "cell_type": "code",
      "source": [
        "myself = {'Name': 'Bob', 'Grade': '11th', 'Num pets': 3}"
      ],
      "metadata": {
        "id": "B93QEZPi_QL4"
      },
      "execution_count": null,
      "outputs": []
    },
    {
      "cell_type": "markdown",
      "source": [
        "---\n",
        "### **Problem #2.3**\n",
        "\n",
        "Add your `Fav color` to the dictionary."
      ],
      "metadata": {
        "id": "KJVWK-DI_eSp"
      }
    },
    {
      "cell_type": "code",
      "source": [
        "# COMPLETE THIS CODE"
      ],
      "metadata": {
        "id": "HRd5bj5P_nvK"
      },
      "execution_count": null,
      "outputs": []
    },
    {
      "cell_type": "markdown",
      "source": [
        "##### **Solution**"
      ],
      "metadata": {
        "id": "hzVqW5yH_qEA"
      }
    },
    {
      "cell_type": "code",
      "source": [
        "myself['Fav color'] = 'blue'\n",
        "print(myself)"
      ],
      "metadata": {
        "id": "2V01fMzP_r5V",
        "colab": {
          "base_uri": "https://localhost:8080/"
        },
        "outputId": "5e041ebc-3e8c-4349-fd4d-9dd8b5bc47db"
      },
      "execution_count": null,
      "outputs": [
        {
          "output_type": "stream",
          "name": "stdout",
          "text": [
            "{'Name': 'Bob', 'Grade': '11th', 'Num pets': 3, 'Fav color': 'blue'}\n"
          ]
        }
      ]
    },
    {
      "cell_type": "markdown",
      "source": [
        "---\n",
        "### **Problem #2.4**\n",
        "\n",
        "Create another dictionary with the keys `Feet` and `Inches` using your height as the values.\n",
        "\n",
        "Add `Height` and this dictionary to `myself` as a new key:value pair.\n",
        "\n",
        "Then print `myself`."
      ],
      "metadata": {
        "id": "hw0XIz8I_2mj"
      }
    },
    {
      "cell_type": "code",
      "source": [
        "height_dict = {'feet': 6, 'inches': 6}\n",
        "myself['height'] = height_dict\n",
        "print(myself)"
      ],
      "metadata": {
        "id": "7DVQpY2ZBVws",
        "colab": {
          "base_uri": "https://localhost:8080/"
        },
        "outputId": "7fb3d170-418e-449e-d638-c0da780f0569"
      },
      "execution_count": null,
      "outputs": [
        {
          "output_type": "stream",
          "name": "stdout",
          "text": [
            "{'Name': 'Bob', 'Grade': '11th', 'Num pets': 3, 'Fav color': 'blue', 'height': {'feet': 6, 'inches': 6}}\n"
          ]
        }
      ]
    },
    {
      "cell_type": "markdown",
      "source": [
        "##### **Solution**"
      ],
      "metadata": {
        "id": "9Cz0pSxpBbYn"
      }
    },
    {
      "cell_type": "code",
      "source": [
        "myself['Height'] = {'Feet': 5, 'Inches': 11}\n",
        "myself"
      ],
      "metadata": {
        "colab": {
          "base_uri": "https://localhost:8080/"
        },
        "id": "eNxzfIo6Bcxv",
        "outputId": "75de5356-fcfa-425d-d65b-4b58dc4e8c9e"
      },
      "execution_count": null,
      "outputs": [
        {
          "output_type": "execute_result",
          "data": {
            "text/plain": [
              "{'Name': 'Bob',\n",
              " 'Grade': '11th',\n",
              " 'Num pets': 3,\n",
              " 'Fav color': 'blue',\n",
              " 'Height': {'Feet': 5, 'Inches': 11}}"
            ]
          },
          "metadata": {},
          "execution_count": 3
        }
      ]
    },
    {
      "cell_type": "markdown",
      "source": [
        "---\n",
        "### **Problem #2.5**\n",
        "\n",
        "Using the `myself` dictionary, print only the `Feet` from your `Height`."
      ],
      "metadata": {
        "id": "_Ept5wEcCYBp"
      }
    },
    {
      "cell_type": "code",
      "source": [
        "myself['height']['feet']"
      ],
      "metadata": {
        "id": "4LHo8bteCo-h",
        "colab": {
          "base_uri": "https://localhost:8080/"
        },
        "outputId": "d3f06fa3-29c0-48ce-eedd-5ac257fb6c1b"
      },
      "execution_count": null,
      "outputs": [
        {
          "output_type": "execute_result",
          "data": {
            "text/plain": [
              "6"
            ]
          },
          "metadata": {},
          "execution_count": 10
        }
      ]
    },
    {
      "cell_type": "markdown",
      "source": [
        "##### **Solution**"
      ],
      "metadata": {
        "id": "tWkp8WCJCqIe"
      }
    },
    {
      "cell_type": "code",
      "source": [
        "myself['Height']['Feet']"
      ],
      "metadata": {
        "colab": {
          "base_uri": "https://localhost:8080/"
        },
        "id": "D06lGPSoCrsD",
        "outputId": "0292de86-bb6d-46ca-eafe-b1bc3e15cc18"
      },
      "execution_count": null,
      "outputs": [
        {
          "output_type": "execute_result",
          "data": {
            "text/plain": [
              "5"
            ]
          },
          "metadata": {},
          "execution_count": 5
        }
      ]
    },
    {
      "cell_type": "markdown",
      "source": [
        "---\n",
        "### **Problem #2.6**\n",
        "\n",
        "Print the keys and values on two different lines."
      ],
      "metadata": {
        "id": "aTh73pSpB46J"
      }
    },
    {
      "cell_type": "code",
      "source": [
        "# COMPLETE THIS CODE"
      ],
      "metadata": {
        "id": "DEAbIB72CKYu"
      },
      "execution_count": null,
      "outputs": []
    },
    {
      "cell_type": "markdown",
      "source": [
        "##### **Solution**"
      ],
      "metadata": {
        "id": "VOsXXsELCLGE"
      }
    },
    {
      "cell_type": "code",
      "source": [
        "print(myself.keys())\n",
        "print(myself.values())"
      ],
      "metadata": {
        "colab": {
          "base_uri": "https://localhost:8080/"
        },
        "id": "owgoDqtBCM7n",
        "outputId": "45c20fcc-8c0c-4feb-f64b-a1043f222e63"
      },
      "execution_count": null,
      "outputs": [
        {
          "output_type": "stream",
          "name": "stdout",
          "text": [
            "dict_keys(['Name', 'Grade', 'Num pets', 'Fav color', 'Height'])\n",
            "dict_values(['Bob', '11th', 3, 'blue', {'Feet': 5, 'Inches': 11}])\n"
          ]
        }
      ]
    },
    {
      "cell_type": "markdown",
      "source": [
        "---\n",
        "### Back To Lab Slides\n",
        "---"
      ],
      "metadata": {
        "id": "x3Uhba2zGSAk"
      }
    },
    {
      "cell_type": "markdown",
      "source": [
        "<a name=\"p3\"></a>\n",
        "\n",
        "---\n",
        "## **Part 3: String Concatenation and Type Casting**\n",
        "---"
      ],
      "metadata": {
        "id": "9PlRWv_-n7ON"
      }
    },
    {
      "cell_type": "markdown",
      "source": [
        "\n",
        "### **Problem #3.1**\n",
        "\n",
        "Run the following block of code and observe the output."
      ],
      "metadata": {
        "id": "gB4NqlF2pfB3"
      }
    },
    {
      "cell_type": "code",
      "source": [
        "a = 123\n",
        "b = '456'\n",
        "print(type(a), type(b))\n",
        "\n",
        "a = str(a)\n",
        "print(type(a), type(b))"
      ],
      "metadata": {
        "id": "VcHzGuWVpo9Q",
        "colab": {
          "base_uri": "https://localhost:8080/"
        },
        "outputId": "d60370ec-9aa1-4663-904b-4127bda5609b"
      },
      "execution_count": null,
      "outputs": [
        {
          "output_type": "stream",
          "name": "stdout",
          "text": [
            "<class 'int'> <class 'str'>\n",
            "<class 'str'> <class 'str'>\n"
          ]
        }
      ]
    },
    {
      "cell_type": "markdown",
      "source": [
        "---\n",
        "### **Problem #3.2**\n",
        "\n",
        "Modify the variables from the previous problem so that we can find the sum of 123 and 456."
      ],
      "metadata": {
        "id": "nHhbb0HFq_7E"
      }
    },
    {
      "cell_type": "code",
      "source": [
        "# COPY AND MODIFY THE CODE FROM PROBLEM 1.1"
      ],
      "metadata": {
        "id": "iaFqgkkqrP6w"
      },
      "execution_count": null,
      "outputs": []
    },
    {
      "cell_type": "markdown",
      "source": [
        "##### **Solution**"
      ],
      "metadata": {
        "id": "NBkf4582rQPe"
      }
    },
    {
      "cell_type": "code",
      "source": [
        "a = int(a)\n",
        "b = int(b)\n",
        "print(a+b)"
      ],
      "metadata": {
        "colab": {
          "base_uri": "https://localhost:8080/"
        },
        "id": "9579Aop2rSR7",
        "outputId": "1c22820e-970c-4f77-85e6-8df3c37ef7b9"
      },
      "execution_count": null,
      "outputs": [
        {
          "output_type": "stream",
          "name": "stdout",
          "text": [
            "579\n"
          ]
        }
      ]
    },
    {
      "cell_type": "markdown",
      "source": [
        "---\n",
        "### **Problem #3.3**\n",
        "\n",
        "Enter your first name, then enter your last name separately. Output your full name."
      ],
      "metadata": {
        "id": "GTFbQL9Qotgq"
      }
    },
    {
      "cell_type": "code",
      "source": [
        "first_name = # COMPLETE THIS LINE\n",
        "last_name = # COMPLETE THIS LINE\n",
        "full_name = # COMPLETE THIS LINE\n",
        "print(full_name)"
      ],
      "metadata": {
        "id": "Z89Hd-oUo_V3"
      },
      "execution_count": null,
      "outputs": []
    },
    {
      "cell_type": "markdown",
      "source": [
        "##### **Solution**"
      ],
      "metadata": {
        "id": "lX5UnCeVpLo5"
      }
    },
    {
      "cell_type": "code",
      "source": [
        "first_name = input('Please enter your first name: ')\n",
        "last_name = input('Please enter your last name: ')\n",
        "full_name = first_name + ' ' + last_name\n",
        "print(full_name)"
      ],
      "metadata": {
        "id": "Wpt9ubzvpNO8"
      },
      "execution_count": null,
      "outputs": []
    },
    {
      "cell_type": "markdown",
      "source": [
        "---\n",
        "### Back To Lab Slides\n",
        "---"
      ],
      "metadata": {
        "id": "HxUwvX3B_Q4J"
      }
    },
    {
      "cell_type": "markdown",
      "source": [
        "<a name=\"p4\"></a>\n",
        "\n",
        "---\n",
        "## **Part 4: Booleans and Comparison Operators**\n",
        "\n",
        "---"
      ],
      "metadata": {
        "id": "RrCtfSTzf8qB"
      }
    },
    {
      "cell_type": "markdown",
      "source": [
        "### **Problem #4.1**\n",
        "\n",
        "**Are you older than the iPhone?** <br>The first iPhone was released in early 2007 making it 17 years old!\n",
        "\n",
        "Answer these 3 questions using comparison operators:\n",
        "\n",
        "- *Are you younger than the iPhone?*\n",
        "- *Are you older than the iPhone?*\n",
        "- *Are you the same age as the iPhone?*\n",
        "\n",
        "**Remember:** The younger you are, the \"larger\" your birth year is!"
      ],
      "metadata": {
        "id": "jURp2KSlW2ve"
      }
    },
    {
      "cell_type": "code",
      "source": [
        "birth_year = # COMPLETE THIS LINE\n",
        "iphone_year = 2007\n",
        "\n",
        "print('Are you younger than the iPhone?', # COMPLETE THIS LINE\n",
        "print('Are you older than the iPhone?', # COMPLETE THIS LINE\n",
        "print('Are you the same age as the iPhone?', # COMPLETE THIS LINE"
      ],
      "metadata": {
        "id": "cgYt_E8nG-xl"
      },
      "execution_count": null,
      "outputs": []
    },
    {
      "cell_type": "markdown",
      "source": [
        "##### **Solution**"
      ],
      "metadata": {
        "id": "KKHCKje-Hj4K"
      }
    },
    {
      "cell_type": "code",
      "source": [
        "birth_year = 2001\n",
        "iphone_year = 2007\n",
        "\n",
        "print('Are you younger than the iPhone?', birth_year > iphone_year)\n",
        "print('Are you older than the iPhone?', birth_year < iphone_year)\n",
        "print('Are you the same age as the iPhone?', birth_year == iphone_year)"
      ],
      "metadata": {
        "colab": {
          "base_uri": "https://localhost:8080/"
        },
        "id": "G478ewCtHlp_",
        "outputId": "561b80fa-c6e8-4a26-a33a-256ac3b75413"
      },
      "execution_count": null,
      "outputs": [
        {
          "output_type": "stream",
          "name": "stdout",
          "text": [
            "Are you younger than the iPhone? False\n",
            "Are you older than the iPhone? True\n",
            "Are you the same age as the iPhone? False\n"
          ]
        }
      ]
    },
    {
      "cell_type": "markdown",
      "source": [
        "---\n",
        "### **Problem #4.2**\n",
        "\n",
        "Before running the code below, what do you think will be printed?\n",
        "\n",
        "Then, run the code and make note of the output. Why do you think this happens?"
      ],
      "metadata": {
        "id": "YIr-wLv8olsn"
      }
    },
    {
      "cell_type": "code",
      "source": [
        "print(int(True))\n",
        "print(int(False))"
      ],
      "metadata": {
        "id": "FtMAF80CpFoZ"
      },
      "execution_count": null,
      "outputs": []
    },
    {
      "cell_type": "markdown",
      "source": [
        "##### **Solution**\n",
        "\n",
        "The concept of *True & False* is much like *heads & tails* or *ON & OFF*; it is a 'one or the other' situation. Traditionally, scenarios like this have been represented simply with 1's and 0's.\n",
        "\n",
        "What else is made up of 1's and 0's?  \n",
        "***Binary!*** &nbsp; The primary, low-level language of digital technologies!"
      ],
      "metadata": {
        "id": "aIZzvOd_pKcl"
      }
    },
    {
      "cell_type": "markdown",
      "source": [
        "---\n",
        "### **Problem #4.3**\n",
        "\n",
        "Armin needs a grade of at least 89.5% to pass with an **A** in his computer science class.\n",
        "\n",
        "Complete the code below by printing his grade percentage as a string and print whether or not he passed with an **A**. Use the slider feature to toggle his grade, then run the code."
      ],
      "metadata": {
        "id": "nm0sDynjmKzw"
      }
    },
    {
      "cell_type": "code",
      "source": [
        "grade = 50        # @param {type:\"slider\", min:0, max:100, step:0.1}\n",
        "\n",
        "print(# COMPLETE THIS LINE\n",
        "print('He got an A in the class:', # COMPLETE THIS LINE"
      ],
      "metadata": {
        "id": "lKOGwgoKvKHJ"
      },
      "execution_count": null,
      "outputs": []
    },
    {
      "cell_type": "markdown",
      "source": [
        "##### **Solution**"
      ],
      "metadata": {
        "id": "7aNQNOgRvRQS"
      }
    },
    {
      "cell_type": "code",
      "source": [
        "grade = 91.2      # @param {type:\"slider\", min:0, max:100, step:0.1}\n",
        "\n",
        "print(\"Armin's grade is \" + str(grade) + '%')\n",
        "print('He got an A in the class:', grade >= 89.5)"
      ],
      "metadata": {
        "colab": {
          "base_uri": "https://localhost:8080/"
        },
        "id": "_2nKYk4is_lO",
        "outputId": "a0231187-8464-4d1c-a09f-e47c2ad380c8"
      },
      "execution_count": null,
      "outputs": [
        {
          "output_type": "stream",
          "name": "stdout",
          "text": [
            "Armin's grade is 91.2%\n",
            "He got an A in the class: True\n"
          ]
        }
      ]
    },
    {
      "cell_type": "markdown",
      "source": [
        "---\n",
        "\n",
        "### **Now your turn! Try Problem #4.4 on your own.**\n",
        "\n",
        "---"
      ],
      "metadata": {
        "id": "OHjmLnjUnEKt"
      }
    },
    {
      "cell_type": "markdown",
      "source": [
        "\n",
        "### **Problem #4.4**\n",
        "\n",
        "Assign values to the 4 variables such that the 8 printed statements are correctly labelled as `True` or `False`. <br>**Do not modify the print statements!**"
      ],
      "metadata": {
        "id": "35eONZO0XcaL"
      }
    },
    {
      "cell_type": "code",
      "source": [
        "var1 = # COMPLETE THIS LINE\n",
        "var2 = # COMPLETE THIS LINE\n",
        "var3 = # COMPLETE THIS LINE\n",
        "var4 = # COMPLETE THIS LINE\n",
        "\n",
        "print('1. The last letter in the English alphabet is Z:', var1 >= var2)\n",
        "print('2. There are 42 stars on the US flag:', var3 < var1 + var2)\n",
        "print('3. All squares are rectangles, but not all rectangles are squares:', var3 / var1 >= 3)\n",
        "print('4. Tomato is actually a fruit:', var3 % 2 == 0)\n",
        "print('5. Saturn is the biggest planet in our solar system:', 2*var1 + 3*var2 > var4)\n",
        "print('6. Computer science is awesome:', var1 + var2 + var3 + var4 <= 50)\n",
        "print('7. 51 is a prime number:', (var1 == 2) == (var3 != var4))\n",
        "print('8. Water is wet:', var4 // 5 == var4 / 5)  # the answer to this is subjective"
      ],
      "metadata": {
        "id": "V04plDr1jNcj"
      },
      "execution_count": null,
      "outputs": []
    },
    {
      "cell_type": "markdown",
      "source": [
        "##### **Solution**\n",
        "\n",
        "There are many possible solutions, but in general:\n",
        "\n",
        "- `var1` should not equal 2\n",
        "- `var2` should probably be negative or very small\n",
        "- `var3` must be greater than `var1 + var2`\n",
        "- `var3` must be even\n",
        "- `var4` must be divisible by 5 (if you think water is wet)"
      ],
      "metadata": {
        "id": "Wqm1Wycng1J8"
      }
    },
    {
      "cell_type": "code",
      "source": [
        "var1 = 4\n",
        "var2 = -7\n",
        "var3 = 14\n",
        "var4 = 20\n",
        "\n",
        "var1 = 3\n",
        "var2 = 3\n",
        "var3 = 10\n",
        "var4 = 21\n",
        "\n",
        "var1 = 3.55555\n",
        "var2 = 3.55555\n",
        "var3 = 12\n",
        "var4 = 19.123456\n",
        "\n",
        "var1 = 3\n",
        "var2 = 2\n",
        "var3 = 12\n",
        "var4 = 15\n",
        "\n",
        "print('1. The last letter in the English alphabet is Z:', var1 >= var2)\n",
        "print('2. There are 42 stars on the US flag:', var3 < var1 + var2)\n",
        "print('3. All squares are rectangles, but not all rectangles are squares:', var3 / var1 >= 3)\n",
        "print('4. Tomato is actually a fruit:', var3 % 2 == 0)\n",
        "print('5. Saturn is the biggest planet in our solar system:', 2*var1 + 3*var2 > var4)\n",
        "print('6. Computer science is awesome:', var1 + var2 + var3 + var4 <= 50)\n",
        "print('7. 51 is a prime number:', (var1 == 2) == (var3 != var4))\n",
        "print('8. Water is wet:', var4 // 5 == var4 / 5)  # the answer to this is subjective"
      ],
      "metadata": {
        "colab": {
          "base_uri": "https://localhost:8080/"
        },
        "id": "yzp2qdJPXfjB",
        "outputId": "78dd061a-9e03-443c-f588-2ea622cfd26b"
      },
      "execution_count": null,
      "outputs": [
        {
          "output_type": "stream",
          "name": "stdout",
          "text": [
            "1. The last letter in the English alphabet is Z: True\n",
            "2. There are 42 stars on the US flag: False\n",
            "3. All squares are rectangles, but not all rectangles are squares: True\n",
            "4. Tomato is actually a fruit: True\n",
            "5. Saturn is the biggest planet in our solar system: False\n",
            "6. Computer science is awesome: True\n",
            "7. 51 is a prime number: False\n",
            "8. Water is wet: True\n"
          ]
        }
      ]
    },
    {
      "cell_type": "markdown",
      "source": [
        "---\n",
        "### Back To Lab Slides\n",
        "---"
      ],
      "metadata": {
        "id": "puGP3orhACXv"
      }
    },
    {
      "cell_type": "markdown",
      "source": [
        "<a name=\"p5\"></a>\n",
        "\n",
        "---\n",
        "## **Part 5: Conditionals - `if`**\n",
        "\n",
        "---"
      ],
      "metadata": {
        "id": "xnugGdCUgu11"
      }
    },
    {
      "cell_type": "markdown",
      "source": [
        "\n",
        "### **Problem #5.1**\n",
        "\n",
        "Create a variable called `temp`. If the temperature is below 40 °F, print a message stating that it is cold outside."
      ],
      "metadata": {
        "id": "_WLgAymQURiM"
      }
    },
    {
      "cell_type": "code",
      "source": [
        "# COMPLETE THIS CODE"
      ],
      "metadata": {
        "id": "0g0S3kS-Vi42"
      },
      "execution_count": null,
      "outputs": []
    },
    {
      "cell_type": "markdown",
      "source": [
        "##### **Solution**"
      ],
      "metadata": {
        "id": "agnuWdeNVWmC"
      }
    },
    {
      "cell_type": "code",
      "source": [
        "temp = 32\n",
        "if temp < 40:\n",
        "  print(\"It's cold outside!\")"
      ],
      "metadata": {
        "id": "qjhh9VyQU9WD"
      },
      "execution_count": null,
      "outputs": []
    },
    {
      "cell_type": "markdown",
      "source": [
        "---\n",
        "### **Problem #5.2**\n",
        "\n",
        "Write some code that prints a New Year's message. Use an if statement to determine whether `year` is a leap year. If it is, then your message should also include this. Test your code on multiple different years.\n",
        "\n",
        "```\n",
        "Happy New Year! Good luck in 2024!\n",
        "2024 is a leap year.\n",
        "```\n",
        "\n",
        "**Hint:** 2020 and 2024 are both leap years."
      ],
      "metadata": {
        "id": "xXsCcwOFVpFd"
      }
    },
    {
      "cell_type": "code",
      "source": [
        "year = 2024\n",
        "\n",
        "print(# COMPLETE THIS LINE\n",
        "\n",
        "# COMPLETE THIS CODE"
      ],
      "metadata": {
        "id": "fHeoM907Vt9m"
      },
      "execution_count": null,
      "outputs": []
    },
    {
      "cell_type": "markdown",
      "source": [
        "##### **Solution**"
      ],
      "metadata": {
        "id": "AcYEYYzCVwm5"
      }
    },
    {
      "cell_type": "code",
      "source": [
        "year = 2020\n",
        "\n",
        "print(\"Happy New Year! Good luck in \" + str(year) + \"!\")\n",
        "\n",
        "if year % 4 == 0:\n",
        "  print(year, \"is a leap year.\")"
      ],
      "metadata": {
        "id": "ZZxP-cFNVyzM"
      },
      "execution_count": null,
      "outputs": []
    },
    {
      "cell_type": "markdown",
      "source": [
        "---\n",
        "### **Problem #5.3**\n",
        "\n",
        "Create a variable called `my_num` and print the absolute value of `my_num`, in other words, if `my_num` is negative you need to make it positive before printing."
      ],
      "metadata": {
        "id": "N8pwmq8FVuL6"
      }
    },
    {
      "cell_type": "code",
      "source": [
        "# COMPLETE THIS CODE"
      ],
      "metadata": {
        "id": "KEzHSyKIVzTG"
      },
      "execution_count": null,
      "outputs": []
    },
    {
      "cell_type": "markdown",
      "source": [
        "##### **Solution**"
      ],
      "metadata": {
        "id": "j1s9GtbfVzvQ"
      }
    },
    {
      "cell_type": "code",
      "source": [
        "my_num = -4.78\n",
        "if my_num < 0:\n",
        "  my_num *= -1\n",
        "print(my_num)"
      ],
      "metadata": {
        "id": "Jq6-ItJRV1iO"
      },
      "execution_count": null,
      "outputs": []
    },
    {
      "cell_type": "markdown",
      "source": [
        "---\n",
        "\n",
        "### **Now your turn! Try Problems #5.4-5.5 on your own.**\n",
        "\n",
        "---"
      ],
      "metadata": {
        "id": "8tRAggIoUlEB"
      }
    },
    {
      "cell_type": "markdown",
      "source": [
        "\n",
        "### **Problem #5.4**\n",
        "Water only boils at or above 100 °C. Create a variable, `water_temp`, which represents the temperature of the water, and print the statement \"The water is boiling\" only if the water is boiling."
      ],
      "metadata": {
        "id": "kQBufef2V4P1"
      }
    },
    {
      "cell_type": "code",
      "source": [
        "# COMPLETE THIS CODE"
      ],
      "metadata": {
        "id": "TVuGYM5ZV6CB"
      },
      "execution_count": null,
      "outputs": []
    },
    {
      "cell_type": "markdown",
      "source": [
        "##### **Solution**"
      ],
      "metadata": {
        "id": "XAdPfhc5V-Dy"
      }
    },
    {
      "cell_type": "code",
      "source": [
        "water_temp = 100\n",
        "\n",
        "if water_temp >= 100:\n",
        "  print(\"The water is boiling.\")"
      ],
      "metadata": {
        "id": "2GPOmrvLV-cy"
      },
      "execution_count": null,
      "outputs": []
    },
    {
      "cell_type": "markdown",
      "source": [
        "---\n",
        "### **Problem #5.5**\n",
        "\n",
        "If `num` is even, print \"The number [num] is even\"."
      ],
      "metadata": {
        "id": "BmQRy9M-Qyto"
      }
    },
    {
      "cell_type": "code",
      "source": [
        "num = 4\n",
        "\n",
        "# COMPLETE THIS CODE"
      ],
      "metadata": {
        "id": "jjpRCmAPROzu"
      },
      "execution_count": null,
      "outputs": []
    },
    {
      "cell_type": "markdown",
      "source": [
        "##### **Solution**"
      ],
      "metadata": {
        "id": "eJtLZxloRSO4"
      }
    },
    {
      "cell_type": "code",
      "source": [
        "num = 4\n",
        "\n",
        "if num % 2 == 0:\n",
        "  print(\"The number\", num, \"is even.\")"
      ],
      "metadata": {
        "id": "Da-g2EhVRUYp"
      },
      "execution_count": null,
      "outputs": []
    },
    {
      "cell_type": "markdown",
      "source": [
        "---\n",
        "### Back To Lab Slides\n",
        "---"
      ],
      "metadata": {
        "id": "IFYByus0AEKN"
      }
    },
    {
      "cell_type": "markdown",
      "source": [
        "<a name=\"p6\"></a>\n",
        "\n",
        "---\n",
        "## **Part 6: Conditionals - `else`**\n",
        "\n",
        "---"
      ],
      "metadata": {
        "id": "IsETR8YDg0rR"
      }
    },
    {
      "cell_type": "markdown",
      "source": [
        "\n",
        "### **Problem #6.1**\n",
        "\n",
        "Copy your solution from **Problem #5.1** and add an `else` statement."
      ],
      "metadata": {
        "id": "l_GOvT-aRqhb"
      }
    },
    {
      "cell_type": "code",
      "source": [
        "# COPY YOUR SOLUTION FROM PROBLEM #5.1"
      ],
      "metadata": {
        "id": "0SBhC1s4SIZS"
      },
      "execution_count": null,
      "outputs": []
    },
    {
      "cell_type": "markdown",
      "source": [
        "##### **Solution**"
      ],
      "metadata": {
        "id": "M-WZb7Dlhnj3"
      }
    },
    {
      "cell_type": "code",
      "source": [
        "temp = 75\n",
        "\n",
        "if temp < 40:\n",
        "  print(\"It's cold outside!\")\n",
        "else:\n",
        "  print(\"It's not cold outside.\")"
      ],
      "metadata": {
        "colab": {
          "base_uri": "https://localhost:8080/"
        },
        "id": "p8l-KFdMhp-S",
        "outputId": "d8b6c283-8de5-4f85-b319-e8ff958311e1"
      },
      "execution_count": null,
      "outputs": [
        {
          "output_type": "stream",
          "name": "stdout",
          "text": [
            "It's not cold outside.\n"
          ]
        }
      ]
    },
    {
      "cell_type": "markdown",
      "source": [
        "---\n",
        "### **Problem #6.2**\n",
        "\n",
        "Copy your solution from **Problem #5.2** and add an `else` statement that tells us when the `year` is not a leap year."
      ],
      "metadata": {
        "id": "BcABOJk4hbYs"
      }
    },
    {
      "cell_type": "code",
      "source": [
        "# COPY YOUR SOLUTION FROM PROBLEM #5.2"
      ],
      "metadata": {
        "id": "wUJUvQbjSwmV"
      },
      "execution_count": null,
      "outputs": []
    },
    {
      "cell_type": "markdown",
      "source": [
        "##### **Solution**"
      ],
      "metadata": {
        "id": "04Z07EZnSw4s"
      }
    },
    {
      "cell_type": "code",
      "source": [
        "year = 2021\n",
        "\n",
        "print(\"Happy New Year! Good luck in \" + str(year) + \"!\")\n",
        "\n",
        "if year % 4 == 0:\n",
        "  print(year, \"is a leap year.\")\n",
        "else:\n",
        "  print(year, \"is not a leap year.\")"
      ],
      "metadata": {
        "id": "FQMcSEc5hmUE"
      },
      "execution_count": null,
      "outputs": []
    },
    {
      "cell_type": "markdown",
      "source": [
        "---\n",
        "\n",
        "### **Now your turn! Try Problems #6.3-6.5 on your own.**\n",
        "\n",
        "---"
      ],
      "metadata": {
        "id": "9FS2GK6zU-rc"
      }
    },
    {
      "cell_type": "markdown",
      "source": [
        "\n",
        "### **Problem #6.3**\n",
        "\n",
        "Copy your solution from **Problem #5.4** and add an `else` statement."
      ],
      "metadata": {
        "id": "qzVxi4oeTFMT"
      }
    },
    {
      "cell_type": "code",
      "source": [
        "# COPY YOUR SOLUTION FROM PROBLEM #5.4"
      ],
      "metadata": {
        "id": "JS472tkzTSVT"
      },
      "execution_count": null,
      "outputs": []
    },
    {
      "cell_type": "markdown",
      "source": [
        "##### **Solution**"
      ],
      "metadata": {
        "id": "NytCuNdGTSVc"
      }
    },
    {
      "cell_type": "code",
      "source": [
        "water_temp = 70\n",
        "\n",
        "if water_temp >= 100:\n",
        "  print(\"The water is boiling.\")\n",
        "else:\n",
        "  print(\"The water is not boiling.\")"
      ],
      "metadata": {
        "id": "fVI6f-B4TSVc"
      },
      "execution_count": null,
      "outputs": []
    },
    {
      "cell_type": "markdown",
      "source": [
        "---\n",
        "### **Problem #6.4**\n",
        "\n",
        "Copy your solution from **Problem #5.5** and modify it so that it prints whether `num` is even or odd."
      ],
      "metadata": {
        "id": "DqXTlrjOTftM"
      }
    },
    {
      "cell_type": "code",
      "source": [
        "# COPY YOUR SOLUTION FROM PROBLEM #5.5"
      ],
      "metadata": {
        "id": "xOauXXiQT84n"
      },
      "execution_count": null,
      "outputs": []
    },
    {
      "cell_type": "markdown",
      "source": [
        "##### **Solution**"
      ],
      "metadata": {
        "id": "-dT3UW1kT84v"
      }
    },
    {
      "cell_type": "code",
      "source": [
        "num = 5\n",
        "\n",
        "if num % 2 == 0:\n",
        "  print(\"The number\", num, \"is even.\")\n",
        "else:\n",
        "  print(\"The number\", num, \"is odd.\")"
      ],
      "metadata": {
        "id": "iyGoOHJFT84v"
      },
      "execution_count": null,
      "outputs": []
    },
    {
      "cell_type": "markdown",
      "source": [
        "---\n",
        "### **Problem #6.5**\n",
        "\n",
        "Write a program that converts time (hours and minutes) from 24-hr to 12-hr format and displays it.\n",
        "\n",
        "For example:\n",
        "```python\n",
        "hours = 14\n",
        "minutes = 23\n",
        "```\n",
        "Should output:\n",
        "```\n",
        "14:23 --> 2:23 PM\n",
        "```"
      ],
      "metadata": {
        "id": "K5mnT4onKDtA"
      }
    },
    {
      "cell_type": "code",
      "source": [
        "hours = 14\n",
        "minutes = 23\n",
        "\n",
        "# COMPLETE THIS CODE"
      ],
      "metadata": {
        "id": "jK8-NFH_KkvS"
      },
      "execution_count": null,
      "outputs": []
    },
    {
      "cell_type": "markdown",
      "source": [
        "##### **Solution**"
      ],
      "metadata": {
        "id": "bdA1hdDlKk_M"
      }
    },
    {
      "cell_type": "code",
      "source": [
        "hours = 14\n",
        "minutes = 23\n",
        "\n",
        "if hours > 12:\n",
        "  print(str(hours) + ':' + str(minutes) + ' --> ' + str(hours-12) + ':' + str(minutes) + ' PM')\n",
        "else:\n",
        "  print(str(hours) + ':' + str(minutes) + ' --> ' + str(hours) + ':' + str(minutes) + ' AM')"
      ],
      "metadata": {
        "colab": {
          "base_uri": "https://localhost:8080/"
        },
        "id": "n_-RLJbnKmxv",
        "outputId": "1e3cdfc4-7821-4e0b-c3a3-e9d7410565c6"
      },
      "execution_count": null,
      "outputs": [
        {
          "output_type": "stream",
          "name": "stdout",
          "text": [
            "14:23 --> 2:23 PM\n"
          ]
        }
      ]
    },
    {
      "cell_type": "markdown",
      "source": [
        "---\n",
        "### Back To Lab Slides\n",
        "---"
      ],
      "metadata": {
        "id": "8DpweD6lAUB9"
      }
    },
    {
      "cell_type": "markdown",
      "source": [
        "<a name=\"p7\"></a>\n",
        "\n",
        "---\n",
        "## **Part 7: Conditionals - `and` & `or`**\n",
        "---"
      ],
      "metadata": {
        "id": "Q5p5Dl7MV28G"
      }
    },
    {
      "cell_type": "markdown",
      "source": [
        "### **Problem #7.1**\n",
        "\n",
        "A robot needs to sort through a shipment of assorted fruits and vegetables and discard any that are either bruised ***or*** moldy.\n",
        "\n",
        "Let's finish programming the robot to complete the given task.\n"
      ],
      "metadata": {
        "id": "lQb8xrTdXkom"
      }
    },
    {
      "cell_type": "code",
      "source": [
        "bruised = False\n",
        "moldy = True\n",
        "\n",
        "if # COMPLETE THIS LINE\n",
        "  print('Discard this item.')"
      ],
      "metadata": {
        "id": "-L-pB9aUYU65"
      },
      "execution_count": null,
      "outputs": []
    },
    {
      "cell_type": "markdown",
      "source": [
        "##### **Solution**"
      ],
      "metadata": {
        "id": "AH_1FegIYdgz"
      }
    },
    {
      "cell_type": "code",
      "source": [
        "bruised = False\n",
        "moldy = True\n",
        "\n",
        "if bruised == True or moldy == True:\n",
        "  print('Discard this item.')"
      ],
      "metadata": {
        "id": "8fM4f1TzYfAD"
      },
      "execution_count": null,
      "outputs": []
    },
    {
      "cell_type": "markdown",
      "source": [
        "---\n",
        "### **Problem #7.2**\n",
        "\n",
        "The same robot must now properly sort the remaining fruits and vegetables but is only able to identify the different produce based on their `shape` and `color`.\n",
        "\n",
        "\n",
        "| Produce     | Shape | Color  |\n",
        "| ----------- | ----- | ------ |\n",
        "| **apple**   | round | red    |\n",
        "| **banana**  | long  | yellow |\n",
        "| **carrot**  | long  | orange |\n",
        "| **lemon**   | round | yellow |\n",
        "| **orange**  | round | yellow |\n",
        "\n",
        "\n",
        "Our task is to finish programming the robot to identify the produce from the different combinations of characteristics."
      ],
      "metadata": {
        "id": "ziJGzk-Bb6gl"
      }
    },
    {
      "cell_type": "code",
      "source": [
        "shape = # COMPLETE THIS LINE\n",
        "color = # COMPLETE THIS LINE\n",
        "\n",
        "if shape == 'round' and color == 'red':\n",
        "  print('Apple')\n",
        "\n",
        "# COMPLETE THIS CODE"
      ],
      "metadata": {
        "id": "DCgLfrRBe3Yj"
      },
      "execution_count": null,
      "outputs": []
    },
    {
      "cell_type": "markdown",
      "source": [
        "##### **Solution**"
      ],
      "metadata": {
        "id": "2dg7KJmOezoC"
      }
    },
    {
      "cell_type": "code",
      "source": [
        "shape = 'round'\n",
        "color = 'yellow'\n",
        "\n",
        "if shape == 'round' and color == 'red':\n",
        "  print('Apple')\n",
        "\n",
        "if shape == 'long' and color == 'yellow':\n",
        "  print('Banana')\n",
        "\n",
        "if shape == 'long' and color == 'orange':\n",
        "  print('Carrot')\n",
        "\n",
        "if shape == 'round' and color == 'yellow':\n",
        "  print('Lemon')\n",
        "\n",
        "if shape == 'round' and color == 'orange':\n",
        "  print('Orange')"
      ],
      "metadata": {
        "colab": {
          "base_uri": "https://localhost:8080/"
        },
        "id": "hzkucSIacJZO",
        "outputId": "5036d3c2-4df4-4f33-ef22-155d51375a8e"
      },
      "execution_count": null,
      "outputs": [
        {
          "output_type": "stream",
          "name": "stdout",
          "text": [
            "Lemon\n"
          ]
        }
      ]
    },
    {
      "cell_type": "markdown",
      "source": [
        "---\n",
        "### **Problem #7.3**\n",
        "\n",
        "Write a function such that if the `weather` is `raining` or the `temperature` is below 60 °F, it will ouptut \"Better wear a jacket!\". Otherwise, it will output \"No jacket needed.\""
      ],
      "metadata": {
        "id": "fJeb6hrvfR8T"
      }
    },
    {
      "cell_type": "code",
      "source": [
        "weather = \"sunny\"\n",
        "temperature = 50\n",
        "\n",
        "# COMPLETE THIS CODE\n"
      ],
      "metadata": {
        "id": "rRohF29mgM2u"
      },
      "execution_count": null,
      "outputs": []
    },
    {
      "cell_type": "markdown",
      "source": [
        "######**Solution**"
      ],
      "metadata": {
        "id": "JW9NdZujgJ7I"
      }
    },
    {
      "cell_type": "code",
      "source": [
        "weather = \"sunny\"\n",
        "temperature = 50\n",
        "\n",
        "if weather == \"raining\" or temperature < 60:\n",
        "  print(\"Better wear a jacket!\")\n",
        "else:\n",
        "  print(\"No jacket needed.\")"
      ],
      "metadata": {
        "colab": {
          "base_uri": "https://localhost:8080/"
        },
        "id": "HlN0vrZUfxS6",
        "outputId": "3c6d21d1-d2f6-49f7-a0a9-2938d9ad7896"
      },
      "execution_count": null,
      "outputs": [
        {
          "output_type": "stream",
          "name": "stdout",
          "text": [
            "Better wear a jacket!\n"
          ]
        }
      ]
    },
    {
      "cell_type": "markdown",
      "source": [
        "---\n",
        "\n",
        "### **Now your turn! Try Problems #7.4-7.5 on your own.**\n",
        "\n",
        "---"
      ],
      "metadata": {
        "id": "ZciXzUJAk8IC"
      }
    },
    {
      "cell_type": "markdown",
      "source": [
        "\n",
        "### **Problem #7.4**\n",
        "Write a function such that if `cloudy = False` and `raining = True`, it will print \"There's a rainbow!\". Otherwise, it will print \"No rainbow.\""
      ],
      "metadata": {
        "id": "Nrc1Rv2agYAB"
      }
    },
    {
      "cell_type": "code",
      "source": [
        "cloudy = False\n",
        "raining = True\n",
        "\n",
        "# COMPLETE THIS CODE\n"
      ],
      "metadata": {
        "id": "kkhx9_76g_r-"
      },
      "execution_count": null,
      "outputs": []
    },
    {
      "cell_type": "markdown",
      "source": [
        "######**Solution**"
      ],
      "metadata": {
        "id": "pUjEEhT7hb7O"
      }
    },
    {
      "cell_type": "code",
      "source": [
        "cloudy = False\n",
        "raining = True\n",
        "\n",
        "if cloudy == False and raining == True:\n",
        "  print(\"There's a rainbow!\")\n",
        "else:\n",
        "  print(\"No rainbow.\")"
      ],
      "metadata": {
        "colab": {
          "base_uri": "https://localhost:8080/"
        },
        "id": "W3Gh8uVAgpxt",
        "outputId": "ca759ad7-b97b-444b-cc48-7458a39b9498"
      },
      "execution_count": null,
      "outputs": [
        {
          "output_type": "stream",
          "name": "stdout",
          "text": [
            "There's a rainbow!\n"
          ]
        }
      ]
    },
    {
      "cell_type": "markdown",
      "source": [
        "---\n",
        "### **Problem #7.5**\n",
        "\n",
        "\n",
        "Miles wants to go play a new video game at Peter's house, but Miles' parents will only let him if he has either:\n",
        "- Finished all of his homework.\n",
        "\n",
        "&nbsp;&nbsp;&nbsp;&nbsp;&nbsp;&nbsp;&nbsp;&nbsp;&nbsp;&nbsp;**OR**\n",
        "- Washed the dishes **AND** raked the yard.\n",
        "\n",
        "Replicate this scenario in the code below."
      ],
      "metadata": {
        "id": "InDWb4jrhp61"
      }
    },
    {
      "cell_type": "code",
      "source": [
        "homework_done = # COMPLETE THIS LINE\n",
        "dishes_washed = # COMPLETE THIS LINE\n",
        "yard_raked = # COMPLETE THIS LINE\n",
        "\n",
        "# COMPLETE THIS CODE"
      ],
      "metadata": {
        "id": "5P6JXX-JlWWz"
      },
      "execution_count": null,
      "outputs": []
    },
    {
      "cell_type": "markdown",
      "source": [
        "######**Solution**"
      ],
      "metadata": {
        "id": "Pe0RsLCNlaNP"
      }
    },
    {
      "cell_type": "code",
      "source": [
        "homework_done = True\n",
        "dishes_washed = True\n",
        "yard_raked = False\n",
        "\n",
        "if homework_done == True or (dishes_washed == True and yard_raked == True):\n",
        "  print(\"Miles can go to Peter's.\")\n",
        "else:\n",
        "  print(\"Miles cannot go to Peter's.\")"
      ],
      "metadata": {
        "colab": {
          "base_uri": "https://localhost:8080/"
        },
        "id": "GuvL4QS3isPw",
        "outputId": "9c52fd37-3adb-4c53-ebed-bf9a2f43aa3d"
      },
      "execution_count": null,
      "outputs": [
        {
          "output_type": "stream",
          "name": "stdout",
          "text": [
            "Miles can go to Peter's.\n"
          ]
        }
      ]
    },
    {
      "cell_type": "markdown",
      "source": [
        "---\n",
        "### Back To Lab Slides\n",
        "---"
      ],
      "metadata": {
        "id": "_dZnoEj1kjpI"
      }
    },
    {
      "cell_type": "markdown",
      "source": [
        "<a name=\"p8\"></a>\n",
        "\n",
        "---\n",
        "## **Part 8: Conditionals - `elif`**\n",
        "\n",
        "---"
      ],
      "metadata": {
        "id": "K5SHo8UGg451"
      }
    },
    {
      "cell_type": "markdown",
      "source": [
        "### **Problem #8.1**\n",
        "\n",
        "Copy your solution from **Problem #6.4** and modify it to print whether a float is either even, odd, or not a whole number."
      ],
      "metadata": {
        "id": "g9BlTPvliBut"
      }
    },
    {
      "cell_type": "code",
      "source": [
        "# COPY YOUR SOLUTION FROM PROBLEM #6.4"
      ],
      "metadata": {
        "id": "HO88rIW1iXHv"
      },
      "execution_count": null,
      "outputs": []
    },
    {
      "cell_type": "markdown",
      "source": [
        "##### **Solution**"
      ],
      "metadata": {
        "id": "89rl6OgyiXWi"
      }
    },
    {
      "cell_type": "code",
      "source": [
        "num = 5.4\n",
        "\n",
        "if num % 2 == 0:\n",
        "  print('The number', num, 'is even.')\n",
        "elif num % 2 == 1:\n",
        "  print('The number', num, 'is odd.')\n",
        "else:\n",
        "  print(num, 'is not a whole number.')"
      ],
      "metadata": {
        "colab": {
          "base_uri": "https://localhost:8080/"
        },
        "id": "Q_yPHDlkiYy1",
        "outputId": "19923e6d-4ae9-42a0-84cb-ebececcf7b5a"
      },
      "execution_count": null,
      "outputs": [
        {
          "output_type": "stream",
          "name": "stdout",
          "text": [
            "5.4 is not a whole number.\n"
          ]
        }
      ]
    },
    {
      "cell_type": "markdown",
      "source": [
        "---\n",
        "### **Problem #8.2**\n",
        "\n",
        "A movie theater sells tickets at different prices based on the following age groups:\n",
        "\n",
        "- Child (0-12) : \\$5\n",
        "- Teenager (13-19) : \\$8\n",
        "- Adult (20-64) : \\$10\n",
        "- Senior (65 and above) : \\$6\n",
        "\n",
        "When ordering tickets online, customers input an age and the site tells them what age group and the price of ticket are. Implement this senario with code."
      ],
      "metadata": {
        "id": "RQNt2wTGGnhu"
      }
    },
    {
      "cell_type": "code",
      "source": [
        "age = # COMPLETE THIS LINE\n",
        "\n",
        "if # COMPLETE THIS LINE\n",
        "  print(# COMPLETE THIS LINE\n",
        "elif # COMPLETE THIS LINE\n",
        "  print(# COMPLETE THIS LINE\n",
        "elif # COMPLETE THIS LINE\n",
        "  print(# COMPLETE THIS LINE\n",
        "else:\n",
        "  print(# COMPLETE THIS LINE"
      ],
      "metadata": {
        "id": "PotTUc97GqyF"
      },
      "execution_count": null,
      "outputs": []
    },
    {
      "cell_type": "markdown",
      "source": [
        "##### **Solution**"
      ],
      "metadata": {
        "id": "P-UoR-x9Go29"
      }
    },
    {
      "cell_type": "code",
      "source": [
        "age = 15\n",
        "\n",
        "if age <= 12:\n",
        "  print(\"You have selected a Child ticket for $5\")\n",
        "elif age <= 19:\n",
        "  print(\"You have selected a Teenager ticket for $8\")\n",
        "elif age <= 64:\n",
        "  print(\"You have selected an Adult ticket for $10\")\n",
        "else:\n",
        "  print(\"You have selected a Senior ticket for $6\")"
      ],
      "metadata": {
        "id": "5GLQASUjGrdg"
      },
      "execution_count": null,
      "outputs": []
    },
    {
      "cell_type": "markdown",
      "source": [
        "---\n",
        "\n",
        "### **Now your turn! Try Problems #8.3-8.5 on your own.**\n",
        "\n",
        "---"
      ],
      "metadata": {
        "id": "mfEYud3olDa8"
      }
    },
    {
      "cell_type": "markdown",
      "source": [
        "\n",
        "### **Problem #8.3**\n",
        "\n",
        "Write a program that classifies animals as carnivores, omnivores, or herbivores based on their diet.\n"
      ],
      "metadata": {
        "id": "6TM0336TlhMZ"
      }
    },
    {
      "cell_type": "code",
      "source": [
        "meat = True     # @param {type:\"boolean\"}\n",
        "plants = True   # @param {type:\"boolean\"}\n",
        "\n",
        "# COMPLETE THIS CODE"
      ],
      "metadata": {
        "id": "6_g2bXXolhMy"
      },
      "execution_count": null,
      "outputs": []
    },
    {
      "cell_type": "markdown",
      "source": [
        "######**Solution**"
      ],
      "metadata": {
        "id": "AVlc7jsVlhMy"
      }
    },
    {
      "cell_type": "code",
      "source": [
        "meat = True     # @param {type:\"boolean\"}\n",
        "plants = True   # @param {type:\"boolean\"}\n",
        "\n",
        "if meat == True and plants == True:\n",
        "  print(\"Omnivore\")\n",
        "elif meat == True and plants == False:\n",
        "  print(\"Carnivore\")\n",
        "else:\n",
        "  print(\"Herbivore\")"
      ],
      "metadata": {
        "colab": {
          "base_uri": "https://localhost:8080/"
        },
        "outputId": "49086e0a-be82-4470-ca01-280da87e40ac",
        "id": "Mn9_AndplhMy"
      },
      "execution_count": null,
      "outputs": [
        {
          "output_type": "stream",
          "name": "stdout",
          "text": [
            "Omnivore\n"
          ]
        }
      ]
    },
    {
      "cell_type": "markdown",
      "source": [
        "---\n",
        "### **Problem #8.4**\n",
        "Write a function such that if a variable, `num` is more than zero, it will print \"num is positive.\" If `num` is less than zero, it will print \"num is negative.\" Otherwise, it will print \"num is zero.\""
      ],
      "metadata": {
        "id": "SPog1H4COWKF"
      }
    },
    {
      "cell_type": "code",
      "source": [
        "num = # COMPLETE THIS CODE"
      ],
      "metadata": {
        "id": "4nZKI8DaQOXA"
      },
      "execution_count": null,
      "outputs": []
    },
    {
      "cell_type": "markdown",
      "source": [
        "######**Solution**"
      ],
      "metadata": {
        "id": "SMpiunDaQM2i"
      }
    },
    {
      "cell_type": "code",
      "source": [
        "num = -7\n",
        "\n",
        "if num * -1 < 0:\n",
        "  print(num, \"is positive.\")\n",
        "elif num * -1 > 0:\n",
        "  print(num, \"is negative.\")\n",
        "else:\n",
        "  print(num, \"is zero.\")"
      ],
      "metadata": {
        "colab": {
          "base_uri": "https://localhost:8080/"
        },
        "id": "h5Eg5xeIOaGS",
        "outputId": "2447830f-f4a3-4fa5-b540-4cde1b7258a0"
      },
      "execution_count": null,
      "outputs": [
        {
          "output_type": "stream",
          "name": "stdout",
          "text": [
            "-7 is negative.\n"
          ]
        }
      ]
    },
    {
      "cell_type": "markdown",
      "source": [
        "---\n",
        "### **Problem #8.5**\n",
        "Create a function such that it takes in two variables, `color_1` and `color_2` and outputs the result of mixing two primary colors (red, yellow, and blue)."
      ],
      "metadata": {
        "id": "8yZgde-8Qtsx"
      }
    },
    {
      "cell_type": "code",
      "source": [
        "color_1 = # COMPLETE THIS CODE\n",
        "color_2 = # COMPLETE THIS CODE"
      ],
      "metadata": {
        "id": "M-29d6p8G5c7"
      },
      "execution_count": null,
      "outputs": []
    },
    {
      "cell_type": "markdown",
      "source": [
        "######**Solution**"
      ],
      "metadata": {
        "id": "Lkmlj6urG2nd"
      }
    },
    {
      "cell_type": "code",
      "source": [
        "color_1 = \"red\"\n",
        "color_2 = \"red\"\n",
        "\n",
        "if color_1 == \"red\" and color_2 == \"blue\" or color_1 == \"blue\" and color_2 == \"red\":\n",
        "  print(\"purple\")\n",
        "elif color_1 == \"red\" and color_2 == \"yellow\" or color_1 == \"yellow\" and color_2 == \"red\":\n",
        "  print(\"yellow\")\n",
        "elif color_1 == \"blue\" and color_2 == \"yellow\" or color_1 == \"yellow\" and color_2 == \"blue\":\n",
        "  print(\"green\")\n",
        "elif color_1 == color_2:\n",
        "  print(color_1)"
      ],
      "metadata": {
        "colab": {
          "base_uri": "https://localhost:8080/"
        },
        "id": "0ZgBHJdX3z_p",
        "outputId": "3f19a751-158c-465a-e27b-3080af55b2a4"
      },
      "execution_count": null,
      "outputs": [
        {
          "output_type": "stream",
          "name": "stdout",
          "text": [
            "red\n"
          ]
        }
      ]
    },
    {
      "cell_type": "markdown",
      "source": [
        "---\n",
        "### Back To Lab Slides\n",
        "---"
      ],
      "metadata": {
        "id": "w-PAswobkxlA"
      }
    },
    {
      "cell_type": "markdown",
      "source": [
        "\n",
        "### **Problem #8.6**\n",
        "\n",
        "Run the code below to simulate the decision to play tennis. Use the drop down menus on the right to adjust the weather conditions."
      ],
      "metadata": {
        "id": "VJfXDSwjRgpy"
      }
    },
    {
      "cell_type": "code",
      "source": [
        "outlook = \"sunny\"     # @param [\"sunny\", \"overcast\", \"rain\"]\n",
        "humidity = \"high\"     # @param [\"high\", \"normal\"]\n",
        "wind = \"strong\"       # @param [\"strong\", \"weak\"]\n",
        "\n",
        "if outlook == \"overcast\" or (outlook == \"sunny\" and humidity == \"normal\") or (outlook == \"rain\" and wind == \"weak\"):\n",
        "    print(\"Let's play tennis.\")\n",
        "else:\n",
        "    print(\"Let's do something else.\")\n"
      ],
      "metadata": {
        "colab": {
          "base_uri": "https://localhost:8080/"
        },
        "id": "vQfff62UR6k4",
        "outputId": "9de2578b-32c6-49bc-e39c-0ac21f9ad5c0"
      },
      "execution_count": null,
      "outputs": [
        {
          "output_type": "stream",
          "name": "stdout",
          "text": [
            "Let's do something else.\n"
          ]
        }
      ]
    },
    {
      "cell_type": "markdown",
      "source": [
        "<a name=\"p9\"></a>\n",
        "\n",
        "---\n",
        "## **Part 9: Extra Practice** [OPTIONAL]\n",
        "---\n",
        "\n",
        "In Python, we can create our own objects with various attributes and methods. The baby object and plant object from the slides have been recreated here for you to practice with.\n",
        "\n",
        "<u>**Baby Object**</u>\n",
        "- **Attributes:**\n",
        "  - `age` : Integer\n",
        "  - `mode` : String\n",
        "  - `hunger` : String\n",
        "- **Methods:**\n",
        "  - `feed()`\n",
        "  - `play()`\n",
        "\n",
        "<br>\n",
        "\n",
        "<u>**Plant Object**</u>\n",
        "- **Attributes:**\n",
        "  - `planted` : Integer\n",
        "  - `day_of_last_growth` : Integer\n",
        "  - `day` : Integer\n",
        "  - `water` : Integer\n",
        "  - `light` : Integer\n",
        "  - `health` : Integer\n",
        "  - `stage` : Integer\n",
        "  - `perfect_light` : Integer\n",
        "  - `perfect_water` : Integer\n",
        "\n",
        "- **Methods:**\n",
        "  - `check_health()`\n",
        "  - `water_plant(amount)`\n",
        "  - `set_light(level)`\n",
        "  - `wait(num_days)`\n",
        "\n",
        "<br>\n",
        "\n",
        "**Run the code cell below before continuing.**"
      ],
      "metadata": {
        "id": "hvLAK2uN340n"
      }
    },
    {
      "cell_type": "code",
      "source": [
        "# @title\n",
        "import numpy\n",
        "\n",
        "class baby():\n",
        "  def __init__(self,age=0, mood=\"crying\", hunger=\"hungry\"):\n",
        "    self.age = age\n",
        "    self.mood = mood\n",
        "    self.hunger = hunger\n",
        "  def feed(self):\n",
        "    self.hunger = \"full\"\n",
        "  def play(self):\n",
        "    self.mood = \"happy\"\n",
        "\n",
        "class plant():\n",
        "  def __init__(self):\n",
        "    self.planted = 0\n",
        "    self.day_of_last_growth = 0\n",
        "    self.day = 0\n",
        "    self.water = 0\n",
        "    self.light = 0\n",
        "    self.health = 10\n",
        "    self.stage = 0\n",
        "    self.perfect_light = numpy.random.choice([1,2,3,4,5,6,7,8,9,10])\n",
        "    self.perfect_water = numpy.random.choice([1,2,3,4,5,6,7,8,9,10])\n",
        "\n",
        "  def water_plant(self,amount):\n",
        "    if amount > 0:\n",
        "      print(\"You watered your plant.\")\n",
        "      self.water += round(amount)\n",
        "    elif amount < 0:\n",
        "      raise ValueError(\"You can't remove water from your plant! You will have to wait a bit for it to dry out.\")\n",
        "    else:\n",
        "      print(\"You decided to not water your plant.\")\n",
        "\n",
        "  def set_light(self,level):\n",
        "    if level <0:\n",
        "      raise ValueError(\"You can't set the light level to negative values.\")\n",
        "    elif level > 10:\n",
        "      raise ValueError(\"Your light is not that strong\")\n",
        "    else:\n",
        "      self.light = round(level)\n",
        "      print(\"You set the light to level \" + str(self.light))\n",
        "\n",
        "  def check_health(self):\n",
        "    print(\"Your plant's health is a \" + str(self.health)+ \"/\" + str(10+(5*self.stage))+\".\")\n",
        "    print(\"If you had to rate the wetness of the soil, it would be a \" + str(self.water)+ \"/10.\")\n",
        "    print(\"Your light is turned up to \" + str(self.light)+ \".\")\n",
        "    if self.stage == 10:\n",
        "      print(\"Your plant is full grown.\")\n",
        "\n",
        "  def wait(self,num_days):\n",
        "    for i in range(num_days):\n",
        "\n",
        "      self.day += 1\n",
        "      print('Day ' + str(self.day))\n",
        "      if self.perfect_light > self.light:\n",
        "        print(\"Your plant needs more light\")\n",
        "        self.health += -1*abs(self.perfect_light- self.light)/10\n",
        "      elif self.perfect_light < self.light:\n",
        "        print(\"Your plant needs less light\")\n",
        "        self.health += -1*abs(self.perfect_light- self.light)/10\n",
        "      else:\n",
        "        print(\"Your plant looks happy with the light it has.\")\n",
        "      if self.perfect_water > self.water:\n",
        "        print(\"Your plant needs more water\")\n",
        "        self.health += -1*abs(self.perfect_water- self.water)/10\n",
        "      elif self.perfect_water < self.water:\n",
        "        print(\"Your plant needs less water\")\n",
        "        self.health += -1*abs(self.perfect_water- self.water)/10\n",
        "      else:\n",
        "        print(\"Your plant looks happy with the water it had.\")\n",
        "      if self.perfect_light == self.light and self.perfect_water == self.water:\n",
        "        self.health = (self.health + 10+(5*self.stage))/2\n",
        "        if self.day- self.day_of_last_growth >= 5 and self.stage < 10:\n",
        "          print(\"Your plant grew a bit! Its preferances may have changed.\")\n",
        "          self.stage += 1\n",
        "          self.health += 5\n",
        "          self.day_of_last_growth = self.day\n",
        "          self.perfect_light = numpy.random.choice([1,2,3,4,5,6,7,8,9,10])\n",
        "          self.perfect_water = numpy.random.choice([1,2,3,4,5,6,7,8,9,10])\n",
        "          if self.stage == 10:\n",
        "            print(\"Congrats! Your plant is full grown.\")\n",
        "      self.water += -1*self.light\n",
        "      if self.water < 0:\n",
        "        self.water = 0\n",
        "      if self.health <= 0:\n",
        "        print(\"Your plant died! You decide to plant a new seed. Treat this one better!\")\n",
        "        self.planted = 0\n",
        "        self.day_of_last_growth = 0\n",
        "        self.day = 0\n",
        "        self.water = 0\n",
        "        self.light = 0\n",
        "        self.health = 10\n",
        "        self.stage = 0\n",
        "        self.perfect_light = numpy.random.choice([1,2,3,4,5,6,7,8,9,10])\n",
        "        self.perfect_water = numpy.random.choice([1,2,3,4,5,6,7,8,9,10])\n",
        "\n",
        "      print('\\n')\n",
        "\n",
        "print(\"Classes for baby objects and plant objects loaded successfully!\")"
      ],
      "metadata": {
        "cellView": "form",
        "id": "lc1A-ZjRDojc"
      },
      "execution_count": null,
      "outputs": []
    },
    {
      "cell_type": "markdown",
      "source": [
        "---\n",
        "#### **Problem #9.1**\n",
        "\n",
        "A `baby` object has been created and its age is set to 1.  \n",
        "\n",
        "Print out its `age` attribute."
      ],
      "metadata": {
        "id": "Fn-MmuBT6dzZ"
      }
    },
    {
      "cell_type": "code",
      "source": [
        "ethan = baby()\n",
        "ethan.age = 1\n",
        "\n",
        "# COMPLETE THIS CODE"
      ],
      "metadata": {
        "id": "iszC3Nln2wkT"
      },
      "execution_count": null,
      "outputs": []
    },
    {
      "cell_type": "markdown",
      "source": [
        "##### **Solution**"
      ],
      "metadata": {
        "id": "nm-1DJzg7JGo"
      }
    },
    {
      "cell_type": "code",
      "source": [
        "ethan = baby()\n",
        "ethan.age = 1\n",
        "ethan.age"
      ],
      "metadata": {
        "colab": {
          "base_uri": "https://localhost:8080/"
        },
        "id": "cSH_E-zU7MKM",
        "outputId": "5c5e1bb3-1519-4969-8037-71417333afd4"
      },
      "execution_count": null,
      "outputs": [
        {
          "output_type": "execute_result",
          "data": {
            "text/plain": [
              "1"
            ]
          },
          "metadata": {},
          "execution_count": 5
        }
      ]
    },
    {
      "cell_type": "markdown",
      "source": [
        "---\n",
        "#### **Problem #9.2**\n",
        "\n",
        "Print out the baby's `hunger` and `mood` attributes."
      ],
      "metadata": {
        "id": "B51rkpDd9KdP"
      }
    },
    {
      "cell_type": "code",
      "source": [
        "# COMPLETE THIS CODE"
      ],
      "metadata": {
        "id": "ffXS2vaE7b7S"
      },
      "execution_count": null,
      "outputs": []
    },
    {
      "cell_type": "code",
      "source": [
        "# COMPLETE THIS CODE"
      ],
      "metadata": {
        "id": "nlO-ANpSQ03U"
      },
      "execution_count": null,
      "outputs": []
    },
    {
      "cell_type": "markdown",
      "source": [
        "##### **Solution**"
      ],
      "metadata": {
        "id": "PXCZ9Mqa9SFT"
      }
    },
    {
      "cell_type": "code",
      "source": [
        "ethan.hunger"
      ],
      "metadata": {
        "colab": {
          "base_uri": "https://localhost:8080/",
          "height": 35
        },
        "id": "zLRR-AaJQs2k",
        "outputId": "42d8fa9f-237f-4dd1-e02b-25f9bc54f17b"
      },
      "execution_count": null,
      "outputs": [
        {
          "output_type": "execute_result",
          "data": {
            "text/plain": [
              "'hungry'"
            ],
            "application/vnd.google.colaboratory.intrinsic+json": {
              "type": "string"
            }
          },
          "metadata": {},
          "execution_count": 6
        }
      ]
    },
    {
      "cell_type": "code",
      "source": [
        "ethan.mood"
      ],
      "metadata": {
        "colab": {
          "base_uri": "https://localhost:8080/",
          "height": 35
        },
        "id": "dS8KFc8L9T-m",
        "outputId": "c8f11000-a1b6-48d7-e09d-38499eb51173"
      },
      "execution_count": null,
      "outputs": [
        {
          "output_type": "execute_result",
          "data": {
            "text/plain": [
              "'crying'"
            ],
            "application/vnd.google.colaboratory.intrinsic+json": {
              "type": "string"
            }
          },
          "metadata": {},
          "execution_count": 7
        }
      ]
    },
    {
      "cell_type": "markdown",
      "source": [
        "---\n",
        "#### **Problem #9.3**\n",
        "\n",
        "Now, use the baby's `feed()` and `play()` methods. Then print out its `hunger` and `mood` attributes once again."
      ],
      "metadata": {
        "id": "nCy0pue79_rA"
      }
    },
    {
      "cell_type": "code",
      "source": [
        "# COMPLETE THIS CODE"
      ],
      "metadata": {
        "id": "JnebEKI4RITF"
      },
      "execution_count": null,
      "outputs": []
    },
    {
      "cell_type": "code",
      "source": [
        "# COMPLETE THIS CODE"
      ],
      "metadata": {
        "id": "ewY0mWW391qb"
      },
      "execution_count": null,
      "outputs": []
    },
    {
      "cell_type": "markdown",
      "source": [
        "##### **Solution**"
      ],
      "metadata": {
        "id": "4f-ODeNB-ZyG"
      }
    },
    {
      "cell_type": "code",
      "source": [
        "ethan.feed()\n",
        "ethan.play()\n",
        "ethan.hunger"
      ],
      "metadata": {
        "colab": {
          "base_uri": "https://localhost:8080/",
          "height": 35
        },
        "id": "JzhDlTLCRK6y",
        "outputId": "f73953db-c46c-4129-d8ec-5e7be5578df4"
      },
      "execution_count": null,
      "outputs": [
        {
          "output_type": "execute_result",
          "data": {
            "text/plain": [
              "'full'"
            ],
            "application/vnd.google.colaboratory.intrinsic+json": {
              "type": "string"
            }
          },
          "metadata": {},
          "execution_count": 8
        }
      ]
    },
    {
      "cell_type": "code",
      "source": [
        "ethan.mood"
      ],
      "metadata": {
        "colab": {
          "base_uri": "https://localhost:8080/",
          "height": 35
        },
        "id": "tVaO9OOh-dOG",
        "outputId": "dd1fa19a-5680-47df-97c3-021f6d4fcca0"
      },
      "execution_count": null,
      "outputs": [
        {
          "output_type": "execute_result",
          "data": {
            "text/plain": [
              "'happy'"
            ],
            "application/vnd.google.colaboratory.intrinsic+json": {
              "type": "string"
            }
          },
          "metadata": {},
          "execution_count": 9
        }
      ]
    },
    {
      "cell_type": "markdown",
      "source": [
        "---\n",
        "#### **Problem #9.4**\n",
        "\n",
        "Create a `plant` object using its corresponding function, and use the `check_health()` method to measure the plant's health."
      ],
      "metadata": {
        "id": "9YYUG7us_YLw"
      }
    },
    {
      "cell_type": "code",
      "source": [
        "# COMPLETE CODE"
      ],
      "metadata": {
        "id": "R52FGssZAAEA"
      },
      "execution_count": null,
      "outputs": []
    },
    {
      "cell_type": "markdown",
      "source": [
        "##### **Solution**"
      ],
      "metadata": {
        "id": "VX7u33cu_9UE"
      }
    },
    {
      "cell_type": "code",
      "source": [
        "fern = plant()\n",
        "fern.check_health()"
      ],
      "metadata": {
        "colab": {
          "base_uri": "https://localhost:8080/"
        },
        "id": "NS1pS41_-u6R",
        "outputId": "4281ae3d-a2ae-4d7a-d4fe-a53698a16117"
      },
      "execution_count": null,
      "outputs": [
        {
          "output_type": "stream",
          "name": "stdout",
          "text": [
            "Your plant's health is a 10/10.\n",
            "If you had to rate the wetness of the soil, it would be a 0/10.\n",
            "Your light is turned up to 0.\n"
          ]
        }
      ]
    },
    {
      "cell_type": "markdown",
      "source": [
        "---\n",
        "#### **Problem #9.5**\n",
        "\n",
        "Use the plant's `wait()` function to wait 2 days before checking its health again. What does the plant need to improve its health?"
      ],
      "metadata": {
        "id": "3hrsTv1ObehR"
      }
    },
    {
      "cell_type": "code",
      "source": [
        "# COMPLETE CODE"
      ],
      "metadata": {
        "id": "5AXPUhIWcNI9"
      },
      "execution_count": null,
      "outputs": []
    },
    {
      "cell_type": "markdown",
      "source": [
        "##### **Solution**"
      ],
      "metadata": {
        "id": "iGsoptjqcLm-"
      }
    },
    {
      "cell_type": "code",
      "source": [
        "fern.wait(2)\n",
        "fern.check_health()"
      ],
      "metadata": {
        "colab": {
          "base_uri": "https://localhost:8080/"
        },
        "id": "qmyJezeebWjQ",
        "outputId": "b35c5814-5dfd-4917-8462-e0ccd0ccefb6"
      },
      "execution_count": null,
      "outputs": [
        {
          "output_type": "stream",
          "name": "stdout",
          "text": [
            "Day 1\n",
            "Your plant needs more light\n",
            "Your plant needs more water\n",
            "\n",
            "\n",
            "Day 2\n",
            "Your plant needs more light\n",
            "Your plant needs more water\n",
            "\n",
            "\n",
            "Your plant's health is a 6.8/10.\n",
            "If you had to rate the wetness of the soil, it would be a 0/10.\n",
            "Your light is turned up to 0.\n"
          ]
        }
      ]
    },
    {
      "cell_type": "markdown",
      "source": [
        "---\n",
        "#### **Problem #9.6**\n",
        "\n",
        "Use the `water_plant()` and `set_light()` methods to adjust the amount of light and water given to the plant. Both methods require an argument, pick numbers between 1-10. Wait 1 day before checking the plant's health to see which values give you the best results."
      ],
      "metadata": {
        "id": "gMqs9VS9fYIs"
      }
    },
    {
      "cell_type": "code",
      "source": [
        "# COMPLETE CODE"
      ],
      "metadata": {
        "id": "CgIwmx7UgR6u"
      },
      "execution_count": null,
      "outputs": []
    },
    {
      "cell_type": "markdown",
      "source": [
        "##### **Solution**"
      ],
      "metadata": {
        "id": "02mfbE0ygVV2"
      }
    },
    {
      "cell_type": "code",
      "source": [
        "fern.water_plant(7)\n",
        "fern.set_light(8)\n",
        "fern.wait(1)\n",
        "fern.check_health()"
      ],
      "metadata": {
        "colab": {
          "base_uri": "https://localhost:8080/"
        },
        "id": "FyEwamu5gW9y",
        "outputId": "e66c4cd6-22ee-450b-f637-9e063c7bb798"
      },
      "execution_count": null,
      "outputs": [
        {
          "output_type": "stream",
          "name": "stdout",
          "text": [
            "You watered your plant.\n",
            "You set the light to level 8\n",
            "Day 3\n",
            "Your plant needs less light\n",
            "Your plant needs more water\n",
            "\n",
            "\n",
            "Your plant's health is a 6.5/10.\n",
            "If you had to rate the wetness of the soil, it would be a 0/10.\n",
            "Your light is turned up to 8.\n"
          ]
        }
      ]
    },
    {
      "cell_type": "markdown",
      "source": [
        "---\n",
        "#### **Problem #9.7**\n",
        "\n",
        "Take a look at the `perfect_water` and `perfect_light` attributes to see what you need to set the ***ideal*** water and light levels, then `water_plant()` and `set_light()` to those levels. Wait another 2 days and check the plant's health again.\n",
        "\n",
        "Based on what the health check said about the wetness of the soil, how often do you think the plant needs to be rewatered?"
      ],
      "metadata": {
        "id": "qYMC60BBcgl0"
      }
    },
    {
      "cell_type": "code",
      "source": [
        "# COMPLETE CODE"
      ],
      "metadata": {
        "id": "un3k2FFPdvHJ"
      },
      "execution_count": null,
      "outputs": []
    },
    {
      "cell_type": "markdown",
      "source": [
        "##### **Solution**"
      ],
      "metadata": {
        "id": "6nK4N53sdwRe"
      }
    },
    {
      "cell_type": "code",
      "source": [
        "print('Perfect water:', fern.perfect_water)\n",
        "print('Perfect light:', fern.perfect_light)\n",
        "\n",
        "fern.water_plant(fern.perfect_water)\n",
        "fern.set_light(fern.perfect_light)\n",
        "\n",
        "fern.wait(2)\n",
        "fern.check_health()  # water decreases by 1 each day so re-watering depends on that and the perfect_water"
      ],
      "metadata": {
        "colab": {
          "base_uri": "https://localhost:8080/"
        },
        "id": "1_rAtMm8cX4K",
        "outputId": "50e57f40-9bc3-4c9d-8119-a5e193581396"
      },
      "execution_count": null,
      "outputs": [
        {
          "output_type": "stream",
          "name": "stdout",
          "text": [
            "Perfect water: 9\n",
            "Perfect light: 7\n",
            "You watered your plant.\n",
            "You set the light to level 7\n",
            "Day 4\n",
            "Your plant looks happy with the light it has.\n",
            "Your plant looks happy with the water it had.\n",
            "\n",
            "\n",
            "Day 5\n",
            "Your plant looks happy with the light it has.\n",
            "Your plant needs more water\n",
            "\n",
            "\n",
            "Your plant's health is a 7.55/10.\n",
            "If you had to rate the wetness of the soil, it would be a 0/10.\n",
            "Your light is turned up to 7.\n"
          ]
        }
      ]
    },
    {
      "cell_type": "markdown",
      "source": [
        "---\n",
        "#### **Problem #9.8**\n",
        "\n",
        "Use a conditional statement to determine whether the plant needs more water before watering it."
      ],
      "metadata": {
        "id": "8sqcvn-Vhujd"
      }
    },
    {
      "cell_type": "code",
      "source": [
        "# COMPLETE CODE"
      ],
      "metadata": {
        "id": "rN1E70C8iCGY"
      },
      "execution_count": null,
      "outputs": []
    },
    {
      "cell_type": "markdown",
      "source": [
        "##### **Solution**"
      ],
      "metadata": {
        "id": "rwD6cO0CiDh_"
      }
    },
    {
      "cell_type": "code",
      "source": [
        "if fern.water < fern.perfect_water:\n",
        "  fern.water_plant(fern.perfect_water - fern.water)\n",
        "\n",
        "fern.check_health()"
      ],
      "metadata": {
        "colab": {
          "base_uri": "https://localhost:8080/"
        },
        "id": "uOv3BnxpiEtc",
        "outputId": "325a08de-51b6-4309-a7d9-efdbe08499ef"
      },
      "execution_count": null,
      "outputs": [
        {
          "output_type": "stream",
          "name": "stdout",
          "text": [
            "You watered your plant.\n",
            "Your plant's health is a 7.55/10.\n",
            "If you had to rate the wetness of the soil, it would be a 9/10.\n",
            "Your light is turned up to 7.\n"
          ]
        }
      ]
    },
    {
      "cell_type": "markdown",
      "source": [
        "---\n",
        "#End of notebook\n",
        "\n",
        "© 2024 The Coding School, All rights reserved"
      ],
      "metadata": {
        "id": "uVPufnC1iKyL"
      }
    }
  ]
}